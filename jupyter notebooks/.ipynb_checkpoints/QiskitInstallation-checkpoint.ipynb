{
 "cells": [
  {
   "cell_type": "code",
   "execution_count": null,
   "id": "aba02e05-52e5-4ddd-af68-7279be3299c9",
   "metadata": {
    "scrolled": true
   },
   "outputs": [],
   "source": [
    "!pip install qiskit\n",
    "!pip install qiskit_ibm_runtime\n",
    "!pip install qiskit[visualization]"
   ]
  },
  {
   "cell_type": "markdown",
   "id": "c2ddb3d4-6655-49cc-9d21-f7601e2bb4dc",
   "metadata": {},
   "source": [
    "These shortcuts only work if you've selected the cell by clicking the area to the left of the text box.\\\n",
    "`A` - New Cell Above\\\n",
    "`B` - New Cell Below\\\n",
    "`M` - Switch to Markdown\\\n",
    "`X` - Cut Cell\\\n",
    "`C` - Copy Cell\\\n",
    "`V` - Paste Cell Below\\\n",
    "`Z` - Undo Cell Operation\\\n",
    "`SHIFT + Z` - Redo Cell Operation\\\n",
    "`J`\\ - Select Cell Below\n",
    "`K`\\ - Select Cell Above\n",
    "`D, D (Press D Twice)` - \\\n",
    "`R` - Raw\\\n",
    "`Y` - Switch to Code Cell"
   ]
  },
  {
   "cell_type": "markdown",
   "id": "251b262a-fdfc-46cf-a7e3-b175a9cc8072",
   "metadata": {},
   "source": [
    "# Qiskit Installation"
   ]
  },
  {
   "cell_type": "markdown",
   "id": "c6434b7b-2d87-4e78-a126-a0b4442b3dd0",
   "metadata": {
    "editable": true,
    "jp-MarkdownHeadingCollapsed": true,
    "slideshow": {
     "slide_type": ""
    },
    "tags": []
   },
   "source": [
    "First we'll install the Qiskit modules. I've included if statements that check whether the module is already installed and can be skipped.\n",
    "\n",
    "Shell commands (like pip install) must be prefixed with an exclamation mark \"!\" when they are run from a notebook cell.\n",
    "\n",
    "The code cell below is my (probably incorrect) attempt at writing a function that will install the qiskit packages if they are not found.\n",
    "\n",
    "The qiskit packages we'll install are the main module `qiskit`, the runtime module `qiskit_ibm_runtime`, and the visualization module `qiskit[visualization]`."
   ]
  },
  {
   "cell_type": "code",
   "execution_count": 17,
   "id": "6af8498b-4682-4132-892c-d4a7227b2500",
   "metadata": {},
   "outputs": [],
   "source": [
    "import importlib.util\n",
    "\n",
    "def is_package_installed(package_name):\n",
    "    if importlib.util.find_spec(package_name) is None:\n",
    "        !pip install $package_name\n",
    "    else:\n",
    "        print(package_name + \" is already installed\")"
   ]
  },
  {
   "cell_type": "code",
   "execution_count": 18,
   "id": "e0d66b72-e273-425e-96cf-15d8f4bb6cda",
   "metadata": {
    "scrolled": true
   },
   "outputs": [
    {
     "name": "stdout",
     "output_type": "stream",
     "text": [
      "qiskit is already installed\n",
      "qiskit_ibm_runtime is already installed\n"
     ]
    }
   ],
   "source": [
    "is_package_installed(\"qiskit\")\n",
    "is_package_installed(\"qiskit_ibm_runtime\")\n",
    "#is_package_installed(\"qiskit[visualization]\")"
   ]
  },
  {
   "cell_type": "markdown",
   "id": "3f641689-69e0-40a7-85e7-c769462aa1f6",
   "metadata": {},
   "source": [
    "The visualization package gives me an issue where the module name for install via pip is `qiskit[visualization]` but the name when calling find_spec is `qiskit.visualization` so we're just gonna use the following code block until I figure that out."
   ]
  },
  {
   "cell_type": "code",
   "execution_count": 19,
   "id": "e2d92e5b-13e1-4b20-9602-9e6d9b5ff48b",
   "metadata": {},
   "outputs": [
    {
     "name": "stdout",
     "output_type": "stream",
     "text": [
      "qiskit[visualization] is already installed\n"
     ]
    }
   ],
   "source": [
    "if importlib.util.find_spec(\"qiskit.visualization\") is None:\n",
    "    !pip install qiskit[visualization]\n",
    "else:\n",
    "        print(\"qiskit[visualization]\" + \" is already installed\")"
   ]
  },
  {
   "cell_type": "markdown",
   "id": "35253476-5375-4af5-8365-74c0dfb1fe18",
   "metadata": {},
   "source": [
    "Now that we have all the qiskit packages installed..."
   ]
  },
  {
   "cell_type": "code",
   "execution_count": null,
   "id": "ee39e37d-c1c5-4892-8475-6c17e9e65c12",
   "metadata": {},
   "outputs": [],
   "source": [
    "from qiskit import *\n",
    "import qiskit\n",
    "\n",
    "qiskit.QuantumCircuit"
   ]
  },
  {
   "cell_type": "code",
   "execution_count": 29,
   "id": "088ff671-b535-448e-99e1-8e75ef556036",
   "metadata": {},
   "outputs": [
    {
     "data": {
      "image/png": "[encoded data removed]",
      "text/plain": [
       "<Figure size 287.294x284.278 with 1 Axes>"
      ]
     },
     "execution_count": 29,
     "metadata": {},
     "output_type": "execute_result"
    }
   ],
   "source": [
    "from qiskit import QuantumCircuit\n",
    "\n",
    "# QuantumCircuit(number of qubits, number of bits)\n",
    "# Create a new circuit with two qubits (first argument) and two classical bits (second argument)\n",
    "qc = QuantumCircuit(2, 2)\n",
    "\n",
    "# Add a Hadamard gate to qubit 0\n",
    "qc.h(0)\n",
    "\n",
    "# Perform a controlled-X gate on qubit 1, controlled by qubit 0\n",
    "qc.cx(0, 1)\n",
    "\n",
    "# Return a drawing of the circuit using MatPlotLib (\"mpl\"). This is the\n",
    "# last line of the cell, so the drawing appears in the cell output.\n",
    "# Remove the \"mpl\" argument to get a text drawing.\n",
    "qc.draw(output=\"mpl\")"
   ]
  },
  {
   "cell_type": "code",
   "execution_count": null,
   "id": "28c8de33-26c0-4b7d-b92a-d1b5fa765808",
   "metadata": {},
   "outputs": [],
   "source": []
  },
  {
   "cell_type": "code",
   "execution_count": null,
   "id": "a909290d-1ce6-46a0-ada4-5d307200141c",
   "metadata": {},
   "outputs": [],
   "source": []
  }
 ],
 "metadata": {
  "kernelspec": {
   "display_name": "Python 3 (ipykernel)",
   "language": "python",
   "name": "python3"
  },
  "language_info": {
   "codemirror_mode": {
    "name": "ipython",
    "version": 3
   },
   "file_extension": ".py",
   "mimetype": "text/x-python",
   "name": "python",
   "nbconvert_exporter": "python",
   "pygments_lexer": "ipython3",
   "version": "3.12.2"
  }
 },
 "nbformat": 4,
 "nbformat_minor": 5
}
