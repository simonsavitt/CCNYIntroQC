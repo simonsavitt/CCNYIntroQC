{
 "cells": [
  {
   "cell_type": "markdown",
   "id": "c6434b7b-2d87-4e78-a126-a0b4442b3dd0",
   "metadata": {},
   "source": [
    "First we'll install the Qiskit packages. I've included if statements that check whether the package is already installed and can be skipped."
   ]
  },
  {
   "cell_type": "markdown",
   "id": "b80d4f8a-0d19-40f2-8fc3-959a5c8337c8",
   "metadata": {},
   "source": [
    "Shell commands (like pip install) must be prefixed with an exclamation mark \"!\" when they are run from a notebook cell."
   ]
  },
  {
   "cell_type": "code",
   "execution_count": 6,
   "id": "6af8498b-4682-4132-892c-d4a7227b2500",
   "metadata": {},
   "outputs": [],
   "source": [
    "import importlib.util\n",
    "\n",
    "def is_package_installed(package_name):\n",
    "    if importlib.util.find_spec(package_name) is None:\n",
    "        !pip install $package_name\n",
    "    else:\n",
    "        print(package_name +\" is already installed\")"
   ]
  },
  {
   "cell_type": "code",
   "execution_count": 8,
   "id": "e0d66b72-e273-425e-96cf-15d8f4bb6cda",
   "metadata": {
    "scrolled": true
   },
   "outputs": [
    {
     "name": "stdout",
     "output_type": "stream",
     "text": [
      "qiskit is already installed\n",
      "qiskit_ibm_runtime is already installed\n"
     ]
    }
   ],
   "source": [
    "is_package_installed(\"qiskit\")\n",
    "is_package_installed(\"qiskit_ibm_runtime\")"
   ]
  },
  {
   "cell_type": "code",
   "execution_count": 9,
   "id": "088ff671-b535-448e-99e1-8e75ef556036",
   "metadata": {},
   "outputs": [
    {
     "data": {
      "image/png": "[encoded data removed]",
      "text/plain": [
       "<Figure size 287.294x284.278 with 1 Axes>"
      ]
     },
     "execution_count": 9,
     "metadata": {},
     "output_type": "execute_result"
    }
   ],
   "source": [
    "from qiskit import QuantumCircuit\n",
    "\n",
    "# QuantumCircuit(number of qubits, number of bits)\n",
    "# Create a new circuit with two qubits (first argument) and two classical bits (second argument)\n",
    "qc = QuantumCircuit(2, 2)\n",
    "\n",
    "# Add a Hadamard gate to qubit 0\n",
    "qc.h(0)\n",
    "\n",
    "# Perform a controlled-X gate on qubit 1, controlled by qubit 0\n",
    "qc.cx(0, 1)\n",
    "\n",
    "# Return a drawing of the circuit using MatPlotLib (\"mpl\"). This is the\n",
    "# last line of the cell, so the drawing appears in the cell output.\n",
    "# Remove the \"mpl\" argument to get a text drawing.\n",
    "qc.draw(output=\"mpl\")"
   ]
  }
 ],
 "metadata": {
  "kernelspec": {
   "display_name": "Python 3 (ipykernel)",
   "language": "python",
   "name": "python3"
  },
  "language_info": {
   "codemirror_mode": {
    "name": "ipython",
    "version": 3
   },
   "file_extension": ".py",
   "mimetype": "text/x-python",
   "name": "python",
   "nbconvert_exporter": "python",
   "pygments_lexer": "ipython3",
   "version": "3.12.2"
  }
 },
 "nbformat": 4,
 "nbformat_minor": 5
}
