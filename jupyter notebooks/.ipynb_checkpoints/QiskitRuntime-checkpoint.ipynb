{
 "cells": [
  {
   "cell_type": "markdown",
   "id": "ef182b03-1925-4a6d-a722-7b8e37f9a243",
   "metadata": {},
   "source": [
    "https://quantum.ibm.com/"
   ]
  },
  {
   "attachments": {
    "66912100-1cad-4ba6-9fa9-89a5ecb1b1ca.png": {
     "image/png": "[encoded data removed]"
    }
   },
   "cell_type": "markdown",
   "id": "4fce1265-c309-4e04-98ce-9041f4ff21bb",
   "metadata": {},
   "source": [
    "![image.png](attachment:66912100-1cad-4ba6-9fa9-89a5ecb1b1ca.png)"
   ]
  },
  {
   "cell_type": "markdown",
   "id": "128042c1-177c-4cae-8632-196e02e0e328",
   "metadata": {},
   "source": [
    "Open Plan - Run your quantum circuits on the world's best quantum systems for free (up to 10 minutes quantum time per month)."
   ]
  },
  {
   "cell_type": "markdown",
   "id": "794ebf1f-7af2-4dd6-ab2a-85671046c0b6",
   "metadata": {},
   "source": [
    "https://docs.quantum.ibm.com/start/setup-channel"
   ]
  },
  {
   "cell_type": "code",
   "execution_count": null,
   "id": "7bb109dd-00fd-4362-9bca-ee752db0af73",
   "metadata": {},
   "outputs": [],
   "source": []
  }
 ],
 "metadata": {
  "kernelspec": {
   "display_name": "Python 3 (ipykernel)",
   "language": "python",
   "name": "python3"
  },
  "language_info": {
   "codemirror_mode": {
    "name": "ipython",
    "version": 3
   },
   "file_extension": ".py",
   "mimetype": "text/x-python",
   "name": "python",
   "nbconvert_exporter": "python",
   "pygments_lexer": "ipython3",
   "version": "3.12.2"
  }
 },
 "nbformat": 4,
 "nbformat_minor": 5
}
