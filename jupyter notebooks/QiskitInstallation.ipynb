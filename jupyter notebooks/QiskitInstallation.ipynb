{
 "cells": [
  {
   "cell_type": "markdown",
   "id": "c6434b7b-2d87-4e78-a126-a0b4442b3dd0",
   "metadata": {},
   "source": [
    "First we'll install the Qiskit packages. I've included if statements that check whether the package is already installed and can be skipped.\n",
    "\n",
    "Shell commands (like pip install) must be prefixed with an exclamation mark \"!\" when they are run from a notebook cell.\n",
    "\n",
    "The code cell below is my (probably incorrect) attempt at writing a function that will install the qiskit packages if they are not found.\n",
    "\n",
    "The qiskit packages we'll install are the main package `qiskit`, the runtime package `qiskit_ibm_runtime`, and the visualization package `qiskit[visualization]`."
   ]
  },
  {
   "cell_type": "code",
   "execution_count": 2,
   "id": "6af8498b-4682-4132-892c-d4a7227b2500",
   "metadata": {},
   "outputs": [],
   "source": [
    "import importlib.util\n",
    "\n",
    "def is_package_installed(package_name):\n",
    "    if importlib.util.find_spec(package_name) is None:\n",
    "        !pip install $package_name\n",
    "    else:\n",
    "        print(package_name +\" is already installed\")"
   ]
  },
  {
   "cell_type": "code",
   "execution_count": null,
   "id": "e0d66b72-e273-425e-96cf-15d8f4bb6cda",
   "metadata": {
    "scrolled": true
   },
   "outputs": [],
   "source": [
    "is_package_installed(\"qiskit\")\n",
    "is_package_installed(\"qiskit_ibm_runtime\")"
   ]
  },
  {
   "cell_type": "markdown",
   "id": "3f641689-69e0-40a7-85e7-c769462aa1f6",
   "metadata": {},
   "source": [
    "The visualization package gives me an issue where the package name for install via pip is `qiskit[visualization]` but the package name in "
   ]
  },
  {
   "cell_type": "code",
   "execution_count": 6,
   "id": "e2d92e5b-13e1-4b20-9602-9e6d9b5ff48b",
   "metadata": {
    "scrolled": true
   },
   "outputs": [
    {
     "name": "stdout",
     "output_type": "stream",
     "text": [
      "Requirement already satisfied: qiskit[visualization] in c:\\users\\simon\\appdata\\roaming\\jupyterlab-desktop\\jlab_server\\lib\\site-packages (1.0.2)\n",
      "Requirement already satisfied: rustworkx>=0.14.0 in c:\\users\\simon\\appdata\\roaming\\jupyterlab-desktop\\jlab_server\\lib\\site-packages (from qiskit[visualization]) (0.14.2)\n",
      "Requirement already satisfied: numpy<2,>=1.17 in c:\\users\\simon\\appdata\\roaming\\jupyterlab-desktop\\jlab_server\\lib\\site-packages (from qiskit[visualization]) (1.26.4)\n",
      "Requirement already satisfied: scipy>=1.5 in c:\\users\\simon\\appdata\\roaming\\jupyterlab-desktop\\jlab_server\\lib\\site-packages (from qiskit[visualization]) (1.12.0)\n",
      "Requirement already satisfied: sympy>=1.3 in c:\\users\\simon\\appdata\\roaming\\jupyterlab-desktop\\jlab_server\\lib\\site-packages (from qiskit[visualization]) (1.12)\n",
      "Requirement already satisfied: dill>=0.3 in c:\\users\\simon\\appdata\\roaming\\jupyterlab-desktop\\jlab_server\\lib\\site-packages (from qiskit[visualization]) (0.3.8)\n",
      "Requirement already satisfied: python-dateutil>=2.8.0 in c:\\users\\simon\\appdata\\roaming\\jupyterlab-desktop\\jlab_server\\lib\\site-packages (from qiskit[visualization]) (2.9.0)\n",
      "Requirement already satisfied: stevedore>=3.0.0 in c:\\users\\simon\\appdata\\roaming\\jupyterlab-desktop\\jlab_server\\lib\\site-packages (from qiskit[visualization]) (5.2.0)\n",
      "Requirement already satisfied: typing-extensions in c:\\users\\simon\\appdata\\roaming\\jupyterlab-desktop\\jlab_server\\lib\\site-packages (from qiskit[visualization]) (4.10.0)\n",
      "Requirement already satisfied: symengine>=0.11 in c:\\users\\simon\\appdata\\roaming\\jupyterlab-desktop\\jlab_server\\lib\\site-packages (from qiskit[visualization]) (0.11.0)\n",
      "Requirement already satisfied: matplotlib>=3.3 in c:\\users\\simon\\appdata\\roaming\\jupyterlab-desktop\\jlab_server\\lib\\site-packages (from qiskit[visualization]) (3.8.3)\n",
      "Requirement already satisfied: pydot in c:\\users\\simon\\appdata\\roaming\\jupyterlab-desktop\\jlab_server\\lib\\site-packages (from qiskit[visualization]) (2.0.0)\n",
      "Requirement already satisfied: Pillow>=4.2.1 in c:\\users\\simon\\appdata\\roaming\\jupyterlab-desktop\\jlab_server\\lib\\site-packages (from qiskit[visualization]) (10.2.0)\n",
      "Requirement already satisfied: pylatexenc>=1.4 in c:\\users\\simon\\appdata\\roaming\\jupyterlab-desktop\\jlab_server\\lib\\site-packages (from qiskit[visualization]) (2.10)\n",
      "Requirement already satisfied: seaborn>=0.9.0 in c:\\users\\simon\\appdata\\roaming\\jupyterlab-desktop\\jlab_server\\lib\\site-packages (from qiskit[visualization]) (0.13.2)\n",
      "Requirement already satisfied: contourpy>=1.0.1 in c:\\users\\simon\\appdata\\roaming\\jupyterlab-desktop\\jlab_server\\lib\\site-packages (from matplotlib>=3.3->qiskit[visualization]) (1.2.0)\n",
      "Requirement already satisfied: cycler>=0.10 in c:\\users\\simon\\appdata\\roaming\\jupyterlab-desktop\\jlab_server\\lib\\site-packages (from matplotlib>=3.3->qiskit[visualization]) (0.12.1)\n",
      "Requirement already satisfied: fonttools>=4.22.0 in c:\\users\\simon\\appdata\\roaming\\jupyterlab-desktop\\jlab_server\\lib\\site-packages (from matplotlib>=3.3->qiskit[visualization]) (4.49.0)\n",
      "Requirement already satisfied: kiwisolver>=1.3.1 in c:\\users\\simon\\appdata\\roaming\\jupyterlab-desktop\\jlab_server\\lib\\site-packages (from matplotlib>=3.3->qiskit[visualization]) (1.4.5)\n",
      "Requirement already satisfied: packaging>=20.0 in c:\\users\\simon\\appdata\\roaming\\jupyterlab-desktop\\jlab_server\\lib\\site-packages (from matplotlib>=3.3->qiskit[visualization]) (23.2)\n",
      "Requirement already satisfied: pyparsing>=2.3.1 in c:\\users\\simon\\appdata\\roaming\\jupyterlab-desktop\\jlab_server\\lib\\site-packages (from matplotlib>=3.3->qiskit[visualization]) (3.1.2)\n",
      "Requirement already satisfied: six>=1.5 in c:\\users\\simon\\appdata\\roaming\\jupyterlab-desktop\\jlab_server\\lib\\site-packages (from python-dateutil>=2.8.0->qiskit[visualization]) (1.16.0)\n",
      "Requirement already satisfied: pandas>=1.2 in c:\\users\\simon\\appdata\\roaming\\jupyterlab-desktop\\jlab_server\\lib\\site-packages (from seaborn>=0.9.0->qiskit[visualization]) (2.2.1)\n",
      "Requirement already satisfied: pbr!=2.1.0,>=2.0.0 in c:\\users\\simon\\appdata\\roaming\\jupyterlab-desktop\\jlab_server\\lib\\site-packages (from stevedore>=3.0.0->qiskit[visualization]) (6.0.0)\n",
      "Requirement already satisfied: mpmath>=0.19 in c:\\users\\simon\\appdata\\roaming\\jupyterlab-desktop\\jlab_server\\lib\\site-packages (from sympy>=1.3->qiskit[visualization]) (1.3.0)\n",
      "Requirement already satisfied: pytz>=2020.1 in c:\\users\\simon\\appdata\\roaming\\jupyterlab-desktop\\jlab_server\\lib\\site-packages (from pandas>=1.2->seaborn>=0.9.0->qiskit[visualization]) (2024.1)\n",
      "Requirement already satisfied: tzdata>=2022.7 in c:\\users\\simon\\appdata\\roaming\\jupyterlab-desktop\\jlab_server\\lib\\site-packages (from pandas>=1.2->seaborn>=0.9.0->qiskit[visualization]) (2024.1)\n"
     ]
    }
   ],
   "source": [
    "is_package_installed(\"qiskit[visualization]\")"
   ]
  },
  {
   "cell_type": "code",
   "execution_count": null,
   "id": "088ff671-b535-448e-99e1-8e75ef556036",
   "metadata": {},
   "outputs": [],
   "source": [
    "from qiskit import QuantumCircuit\n",
    "\n",
    "# QuantumCircuit(number of qubits, number of bits)\n",
    "# Create a new circuit with two qubits (first argument) and two classical bits (second argument)\n",
    "qc = QuantumCircuit(2, 2)\n",
    "\n",
    "# Add a Hadamard gate to qubit 0\n",
    "qc.h(0)\n",
    "\n",
    "# Perform a controlled-X gate on qubit 1, controlled by qubit 0\n",
    "qc.cx(0, 1)\n",
    "\n",
    "# Return a drawing of the circuit using MatPlotLib (\"mpl\"). This is the\n",
    "# last line of the cell, so the drawing appears in the cell output.\n",
    "# Remove the \"mpl\" argument to get a text drawing.\n",
    "# qc.draw(output=\"mpl\")\n",
    "qc.print()"
   ]
  },
  {
   "cell_type": "code",
   "execution_count": null,
   "id": "28c8de33-26c0-4b7d-b92a-d1b5fa765808",
   "metadata": {},
   "outputs": [],
   "source": []
  },
  {
   "cell_type": "code",
   "execution_count": null,
   "id": "a909290d-1ce6-46a0-ada4-5d307200141c",
   "metadata": {},
   "outputs": [],
   "source": []
  }
 ],
 "metadata": {
  "kernelspec": {
   "display_name": "Python 3 (ipykernel)",
   "language": "python",
   "name": "python3"
  },
  "language_info": {
   "codemirror_mode": {
    "name": "ipython",
    "version": 3
   },
   "file_extension": ".py",
   "mimetype": "text/x-python",
   "name": "python",
   "nbconvert_exporter": "python",
   "pygments_lexer": "ipython3",
   "version": "3.12.2"
  }
 },
 "nbformat": 4,
 "nbformat_minor": 5
}
