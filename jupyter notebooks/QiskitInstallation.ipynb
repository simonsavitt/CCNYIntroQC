{
 "cells": [
  {
   "cell_type": "markdown",
   "id": "c6434b7b-2d87-4e78-a126-a0b4442b3dd0",
   "metadata": {},
   "source": [
    "First we'll install the Qiskit packages. I've included if statements that check whether the package is already installed and can be skipped."
   ]
  },
  {
   "cell_type": "markdown",
   "id": "b80d4f8a-0d19-40f2-8fc3-959a5c8337c8",
   "metadata": {},
   "source": [
    "Shell commands (like pip install) must be prefixed with an exclamation mark \"!\" when they are run from a notebook cell."
   ]
  },
  {
   "cell_type": "code",
   "execution_count": 2,
   "id": "6af8498b-4682-4132-892c-d4a7227b2500",
   "metadata": {},
   "outputs": [],
   "source": [
    "import importlib.util\n",
    "\n",
    "def is_package_installed(package_name):\n",
    "    if importlib.util.find_spec(package_name) is None:\n",
    "        !pip install $package_name\n",
    "    else:\n",
    "        print(package_name +\" is already installed\")"
   ]
  },
  {
   "cell_type": "code",
   "execution_count": 3,
   "id": "e0d66b72-e273-425e-96cf-15d8f4bb6cda",
   "metadata": {
    "scrolled": true
   },
   "outputs": [
    {
     "name": "stdout",
     "output_type": "stream",
     "text": [
      "Collecting qiskit\n",
      "  Using cached qiskit-1.0.2-cp38-abi3-win_amd64.whl.metadata (12 kB)\n",
      "Collecting rustworkx>=0.14.0 (from qiskit)\n",
      "  Downloading rustworkx-0.14.2-cp312-cp312-win_amd64.whl.metadata (10 kB)\n",
      "Requirement already satisfied: numpy<2,>=1.17 in c:\\users\\simon\\appdata\\roaming\\jupyterlab-desktop\\jlab_server\\lib\\site-packages (from qiskit) (1.26.4)\n",
      "Requirement already satisfied: scipy>=1.5 in c:\\users\\simon\\appdata\\roaming\\jupyterlab-desktop\\jlab_server\\lib\\site-packages (from qiskit) (1.12.0)\n",
      "Collecting sympy>=1.3 (from qiskit)\n",
      "  Using cached sympy-1.12-py3-none-any.whl.metadata (12 kB)\n",
      "Collecting dill>=0.3 (from qiskit)\n",
      "  Using cached dill-0.3.8-py3-none-any.whl.metadata (10 kB)\n",
      "Requirement already satisfied: python-dateutil>=2.8.0 in c:\\users\\simon\\appdata\\roaming\\jupyterlab-desktop\\jlab_server\\lib\\site-packages (from qiskit) (2.9.0)\n",
      "Collecting stevedore>=3.0.0 (from qiskit)\n",
      "  Using cached stevedore-5.2.0-py3-none-any.whl.metadata (2.3 kB)\n",
      "Requirement already satisfied: typing-extensions in c:\\users\\simon\\appdata\\roaming\\jupyterlab-desktop\\jlab_server\\lib\\site-packages (from qiskit) (4.10.0)\n",
      "Collecting symengine>=0.11 (from qiskit)\n",
      "  Using cached symengine-0.11.0-cp312-cp312-win_amd64.whl.metadata (1.2 kB)\n",
      "Requirement already satisfied: six>=1.5 in c:\\users\\simon\\appdata\\roaming\\jupyterlab-desktop\\jlab_server\\lib\\site-packages (from python-dateutil>=2.8.0->qiskit) (1.16.0)\n",
      "Collecting pbr!=2.1.0,>=2.0.0 (from stevedore>=3.0.0->qiskit)\n",
      "  Using cached pbr-6.0.0-py2.py3-none-any.whl.metadata (1.3 kB)\n",
      "Collecting mpmath>=0.19 (from sympy>=1.3->qiskit)\n",
      "  Using cached mpmath-1.3.0-py3-none-any.whl.metadata (8.6 kB)\n",
      "Using cached qiskit-1.0.2-cp38-abi3-win_amd64.whl (4.1 MB)\n",
      "Using cached dill-0.3.8-py3-none-any.whl (116 kB)\n",
      "Downloading rustworkx-0.14.2-cp312-cp312-win_amd64.whl (1.6 MB)\n",
      "   ---------------------------------------- 0.0/1.6 MB ? eta -:--:--\n",
      "   - -------------------------------------- 0.0/1.6 MB 991.0 kB/s eta 0:00:02\n",
      "   ------- -------------------------------- 0.3/1.6 MB 3.5 MB/s eta 0:00:01\n",
      "   ------------------- -------------------- 0.8/1.6 MB 6.1 MB/s eta 0:00:01\n",
      "   ----------------------------------- ---- 1.4/1.6 MB 8.1 MB/s eta 0:00:01\n",
      "   ---------------------------------------- 1.6/1.6 MB 7.7 MB/s eta 0:00:00\n",
      "Using cached stevedore-5.2.0-py3-none-any.whl (49 kB)\n",
      "Using cached symengine-0.11.0-cp312-cp312-win_amd64.whl (16.6 MB)\n",
      "Using cached sympy-1.12-py3-none-any.whl (5.7 MB)\n",
      "Using cached mpmath-1.3.0-py3-none-any.whl (536 kB)\n",
      "Using cached pbr-6.0.0-py2.py3-none-any.whl (107 kB)\n",
      "Installing collected packages: mpmath, sympy, symengine, rustworkx, pbr, dill, stevedore, qiskit\n",
      "Successfully installed dill-0.3.8 mpmath-1.3.0 pbr-6.0.0 qiskit-1.0.2 rustworkx-0.14.2 stevedore-5.2.0 symengine-0.11.0 sympy-1.12\n",
      "Collecting qiskit_ibm_runtime\n",
      "  Using cached qiskit_ibm_runtime-0.21.1-py3-none-any.whl.metadata (19 kB)\n",
      "Requirement already satisfied: requests>=2.19 in c:\\users\\simon\\appdata\\roaming\\jupyterlab-desktop\\jlab_server\\lib\\site-packages (from qiskit_ibm_runtime) (2.31.0)\n",
      "Collecting requests-ntlm>=1.1.0 (from qiskit_ibm_runtime)\n",
      "  Using cached requests_ntlm-1.2.0-py3-none-any.whl.metadata (2.4 kB)\n",
      "Requirement already satisfied: numpy>=1.13 in c:\\users\\simon\\appdata\\roaming\\jupyterlab-desktop\\jlab_server\\lib\\site-packages (from qiskit_ibm_runtime) (1.26.4)\n",
      "Requirement already satisfied: urllib3>=1.21.1 in c:\\users\\simon\\appdata\\roaming\\jupyterlab-desktop\\jlab_server\\lib\\site-packages (from qiskit_ibm_runtime) (2.2.1)\n",
      "Requirement already satisfied: python-dateutil>=2.8.0 in c:\\users\\simon\\appdata\\roaming\\jupyterlab-desktop\\jlab_server\\lib\\site-packages (from qiskit_ibm_runtime) (2.9.0)\n",
      "Requirement already satisfied: websocket-client>=1.5.1 in c:\\users\\simon\\appdata\\roaming\\jupyterlab-desktop\\jlab_server\\lib\\site-packages (from qiskit_ibm_runtime) (1.7.0)\n",
      "Collecting ibm-platform-services>=0.22.6 (from qiskit_ibm_runtime)\n",
      "  Using cached ibm_platform_services-0.52.0-py3-none-any.whl\n",
      "Requirement already satisfied: pydantic in c:\\users\\simon\\appdata\\roaming\\jupyterlab-desktop\\jlab_server\\lib\\site-packages (from qiskit_ibm_runtime) (2.6.3)\n",
      "Requirement already satisfied: qiskit>=1.0.0 in c:\\users\\simon\\appdata\\roaming\\jupyterlab-desktop\\jlab_server\\lib\\site-packages (from qiskit_ibm_runtime) (1.0.2)\n",
      "Collecting ibm-cloud-sdk-core<4.0.0,>=3.19.2 (from ibm-platform-services>=0.22.6->qiskit_ibm_runtime)\n",
      "  Using cached ibm_cloud_sdk_core-3.19.2-py3-none-any.whl\n",
      "Requirement already satisfied: six>=1.5 in c:\\users\\simon\\appdata\\roaming\\jupyterlab-desktop\\jlab_server\\lib\\site-packages (from python-dateutil>=2.8.0->qiskit_ibm_runtime) (1.16.0)\n",
      "Requirement already satisfied: rustworkx>=0.14.0 in c:\\users\\simon\\appdata\\roaming\\jupyterlab-desktop\\jlab_server\\lib\\site-packages (from qiskit>=1.0.0->qiskit_ibm_runtime) (0.14.2)\n",
      "Requirement already satisfied: scipy>=1.5 in c:\\users\\simon\\appdata\\roaming\\jupyterlab-desktop\\jlab_server\\lib\\site-packages (from qiskit>=1.0.0->qiskit_ibm_runtime) (1.12.0)\n",
      "Requirement already satisfied: sympy>=1.3 in c:\\users\\simon\\appdata\\roaming\\jupyterlab-desktop\\jlab_server\\lib\\site-packages (from qiskit>=1.0.0->qiskit_ibm_runtime) (1.12)\n",
      "Requirement already satisfied: dill>=0.3 in c:\\users\\simon\\appdata\\roaming\\jupyterlab-desktop\\jlab_server\\lib\\site-packages (from qiskit>=1.0.0->qiskit_ibm_runtime) (0.3.8)\n",
      "Requirement already satisfied: stevedore>=3.0.0 in c:\\users\\simon\\appdata\\roaming\\jupyterlab-desktop\\jlab_server\\lib\\site-packages (from qiskit>=1.0.0->qiskit_ibm_runtime) (5.2.0)\n",
      "Requirement already satisfied: typing-extensions in c:\\users\\simon\\appdata\\roaming\\jupyterlab-desktop\\jlab_server\\lib\\site-packages (from qiskit>=1.0.0->qiskit_ibm_runtime) (4.10.0)\n",
      "Requirement already satisfied: symengine>=0.11 in c:\\users\\simon\\appdata\\roaming\\jupyterlab-desktop\\jlab_server\\lib\\site-packages (from qiskit>=1.0.0->qiskit_ibm_runtime) (0.11.0)\n",
      "Requirement already satisfied: charset-normalizer<4,>=2 in c:\\users\\simon\\appdata\\roaming\\jupyterlab-desktop\\jlab_server\\lib\\site-packages (from requests>=2.19->qiskit_ibm_runtime) (3.3.2)\n",
      "Requirement already satisfied: idna<4,>=2.5 in c:\\users\\simon\\appdata\\roaming\\jupyterlab-desktop\\jlab_server\\lib\\site-packages (from requests>=2.19->qiskit_ibm_runtime) (3.6)\n",
      "Requirement already satisfied: certifi>=2017.4.17 in c:\\users\\simon\\appdata\\roaming\\jupyterlab-desktop\\jlab_server\\lib\\site-packages (from requests>=2.19->qiskit_ibm_runtime) (2024.2.2)\n",
      "Collecting cryptography>=1.3 (from requests-ntlm>=1.1.0->qiskit_ibm_runtime)\n",
      "  Using cached cryptography-42.0.5-cp39-abi3-win_amd64.whl.metadata (5.4 kB)\n",
      "Collecting pyspnego>=0.1.6 (from requests-ntlm>=1.1.0->qiskit_ibm_runtime)\n",
      "  Using cached pyspnego-0.10.2-py3-none-any.whl.metadata (5.4 kB)\n",
      "Requirement already satisfied: annotated-types>=0.4.0 in c:\\users\\simon\\appdata\\roaming\\jupyterlab-desktop\\jlab_server\\lib\\site-packages (from pydantic->qiskit_ibm_runtime) (0.6.0)\n",
      "Requirement already satisfied: pydantic-core==2.16.3 in c:\\users\\simon\\appdata\\roaming\\jupyterlab-desktop\\jlab_server\\lib\\site-packages (from pydantic->qiskit_ibm_runtime) (2.16.3)\n",
      "Requirement already satisfied: cffi>=1.12 in c:\\users\\simon\\appdata\\roaming\\jupyterlab-desktop\\jlab_server\\lib\\site-packages (from cryptography>=1.3->requests-ntlm>=1.1.0->qiskit_ibm_runtime) (1.16.0)\n",
      "Collecting PyJWT<3.0.0,>=2.8.0 (from ibm-cloud-sdk-core<4.0.0,>=3.19.2->ibm-platform-services>=0.22.6->qiskit_ibm_runtime)\n",
      "  Using cached PyJWT-2.8.0-py3-none-any.whl.metadata (4.2 kB)\n",
      "Collecting sspilib>=0.1.0 (from pyspnego>=0.1.6->requests-ntlm>=1.1.0->qiskit_ibm_runtime)\n",
      "  Using cached sspilib-0.1.0-cp312-cp312-win_amd64.whl.metadata (7.4 kB)\n",
      "Requirement already satisfied: pbr!=2.1.0,>=2.0.0 in c:\\users\\simon\\appdata\\roaming\\jupyterlab-desktop\\jlab_server\\lib\\site-packages (from stevedore>=3.0.0->qiskit>=1.0.0->qiskit_ibm_runtime) (6.0.0)\n",
      "Requirement already satisfied: mpmath>=0.19 in c:\\users\\simon\\appdata\\roaming\\jupyterlab-desktop\\jlab_server\\lib\\site-packages (from sympy>=1.3->qiskit>=1.0.0->qiskit_ibm_runtime) (1.3.0)\n",
      "Requirement already satisfied: pycparser in c:\\users\\simon\\appdata\\roaming\\jupyterlab-desktop\\jlab_server\\lib\\site-packages (from cffi>=1.12->cryptography>=1.3->requests-ntlm>=1.1.0->qiskit_ibm_runtime) (2.21)\n",
      "Using cached qiskit_ibm_runtime-0.21.1-py3-none-any.whl (3.0 MB)\n",
      "Using cached requests_ntlm-1.2.0-py3-none-any.whl (6.0 kB)\n",
      "Using cached cryptography-42.0.5-cp39-abi3-win_amd64.whl (2.9 MB)\n",
      "Using cached pyspnego-0.10.2-py3-none-any.whl (129 kB)\n",
      "Using cached PyJWT-2.8.0-py3-none-any.whl (22 kB)\n",
      "Using cached sspilib-0.1.0-cp312-cp312-win_amd64.whl (567 kB)\n",
      "Installing collected packages: sspilib, PyJWT, ibm-cloud-sdk-core, cryptography, pyspnego, ibm-platform-services, requests-ntlm, qiskit_ibm_runtime\n",
      "Successfully installed PyJWT-2.8.0 cryptography-42.0.5 ibm-cloud-sdk-core-3.19.2 ibm-platform-services-0.52.0 pyspnego-0.10.2 qiskit_ibm_runtime-0.21.1 requests-ntlm-1.2.0 sspilib-0.1.0\n"
     ]
    }
   ],
   "source": [
    "is_package_installed(\"qiskit\")\n",
    "is_package_installed(\"qiskit_ibm_runtime\")"
   ]
  },
  {
   "cell_type": "code",
   "execution_count": null,
   "id": "088ff671-b535-448e-99e1-8e75ef556036",
   "metadata": {},
   "outputs": [],
   "source": [
    "from qiskit import QuantumCircuit\n",
    "\n",
    "# QuantumCircuit(number of qubits, number of bits)\n",
    "# Create a new circuit with two qubits (first argument) and two classical bits (second argument)\n",
    "qc = QuantumCircuit(2, 2)\n",
    "\n",
    "# Add a Hadamard gate to qubit 0\n",
    "qc.h(0)\n",
    "\n",
    "# Perform a controlled-X gate on qubit 1, controlled by qubit 0\n",
    "qc.cx(0, 1)\n",
    "\n",
    "# Return a drawing of the circuit using MatPlotLib (\"mpl\"). This is the\n",
    "# last line of the cell, so the drawing appears in the cell output.\n",
    "# Remove the \"mpl\" argument to get a text drawing.\n",
    "# qc.draw(output=\"mpl\")\n",
    "qc.print()"
   ]
  },
  {
   "cell_type": "code",
   "execution_count": null,
   "id": "28c8de33-26c0-4b7d-b92a-d1b5fa765808",
   "metadata": {},
   "outputs": [],
   "source": []
  },
  {
   "cell_type": "code",
   "execution_count": null,
   "id": "a909290d-1ce6-46a0-ada4-5d307200141c",
   "metadata": {},
   "outputs": [],
   "source": []
  }
 ],
 "metadata": {
  "kernelspec": {
   "display_name": "Python 3 (ipykernel)",
   "language": "python",
   "name": "python3"
  },
  "language_info": {
   "codemirror_mode": {
    "name": "ipython",
    "version": 3
   },
   "file_extension": ".py",
   "mimetype": "text/x-python",
   "name": "python",
   "nbconvert_exporter": "python",
   "pygments_lexer": "ipython3",
   "version": "3.12.2"
  }
 },
 "nbformat": 4,
 "nbformat_minor": 5
}
