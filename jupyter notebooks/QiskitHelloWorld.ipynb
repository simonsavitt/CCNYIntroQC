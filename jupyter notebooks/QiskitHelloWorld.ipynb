{
 "cells": [
  {
   "cell_type": "markdown",
   "id": "3741a936-cf00-489e-a0a0-77a5cf7811de",
   "metadata": {},
   "source": [
    "This notebook follows the [Hello world](https://docs.quantum.ibm.com/start/hello-world) tutorial on Qiskit's website.\n",
    "It can also be found on [Github](https://github.com/Qiskit/documentation/blob/main/docs/start/hello-world.ipynb).\n",
    "\n",
    "First we'll install the Qiskit packages. I've included if statements that check whether the package is already installed and can be skipped."
   ]
  },
  {
   "cell_type": "code",
   "execution_count": 1,
   "id": "2bf5dfa2-af9e-4db6-a50a-ff3eb8812b2e",
   "metadata": {},
   "outputs": [
    {
     "name": "stdout",
     "output_type": "stream",
     "text": [
      "Qiskit package already installed.\n",
      "qiskit-ibm-runtime package already installed.\n",
      "qiskit[visualization] package already installed.\n"
     ]
    }
   ],
   "source": [
    "import os\n",
    "\n",
    "if os.system(\"import Qiskit\") == 0:\n",
    "    !pip install Qiskit\n",
    "else:\n",
    "    print(\"Qiskit package already installed.\")\n",
    "    \n",
    "if os.system(\"import qiskit-ibm-runtime\") == 0:\n",
    "    !pip install qiskit-ibm-runtime\n",
    "else:\n",
    "    print(\"qiskit-ibm-runtime package already installed.\")    \n",
    "    \n",
    "if os.system(\"import qiskit[visualization]\") == 0:\n",
    "    !pip install qiskit[visualization]\n",
    "else:\n",
    "    print(\"qiskit[visualization] package already installed.\")"
   ]
  },
  {
   "cell_type": "markdown",
   "id": "37662a8e-f6e2-4908-b358-e518845fd28f",
   "metadata": {},
   "source": [
    "# Hello world\n",
    "\n",
    "This Hello world example creates a simple quantum program and runs it on a quantum system.\n",
    "\n",
    "The four steps to writing a quantum program are\n",
    "\n",
    "1.  Map the problem to a quantum-native format\n",
    "\n",
    "2.  Optimize the circuits and operators\n",
    "\n",
    "3.  Execute using a quantum primitive function\n",
    "\n",
    "4.  Analyze the results\n",
    "\n",
    "## TODO\n",
    "Qiskit uses the LSb 0 bit numbering where qubits are labeled with indices increasing **from right to left**. \n",
    "\n",
    "\n",
    "## Step 1. Map the problem to a quantum-native format\n",
    "\n",
    "In a quantum program, *quantum circuits* are the native format in which to represent quantum instructions, and *operators* represent the observables to be measured. When creating a circuit, you'll usually create a new [`QuantumCircuit`](https://docs.quantum.ibm.com/api/qiskit/qiskit.circuit.QuantumCircuit) object, then add instructions to it in sequence.\n",
    "\n",
    "The following code cell creates a circuit that produces a *Bell state,* which is a specific two-qubit entangled state."
   ]
  },
  {
   "cell_type": "code",
   "execution_count": 4,
   "id": "930ca3b6",
   "metadata": {},
   "outputs": [
    {
     "data": {
      "image/png": "[encoded data removed]",
      "text/plain": [
       "<Figure size 287.294x284.278 with 1 Axes>"
      ]
     },
     "execution_count": 4,
     "metadata": {},
     "output_type": "execute_result"
    }
   ],
   "source": [
    "from qiskit import QuantumCircuit\n",
    "\n",
    "# QuantumCircuit(number of qubits, number of bits)\n",
    "# Create a new circuit with two qubits (first argument) and two classical bits (second argument)\n",
    "qc = QuantumCircuit(2, 2)\n",
    "\n",
    "# Add a Hadamard gate to qubit 0\n",
    "qc.h(0)\n",
    "\n",
    "# Perform a controlled-X gate on qubit 1, controlled by qubit 0\n",
    "qc.cx(0, 1)\n",
    "\n",
    "# Return a drawing of the circuit using MatPlotLib (\"mpl\"). This is the\n",
    "# last line of the cell, so the drawing appears in the cell output.\n",
    "# Remove the \"mpl\" argument to get a text drawing.\n",
    "qc.draw(output=\"mpl\")"
   ]
  },
  {
   "cell_type": "markdown",
   "id": "07f444fc-9389-4cfc-aca7-82a19a16f9c2",
   "metadata": {},
   "source": [
    "[Visualization](https://docs.quantum.ibm.com/build/circuit-visualization)"
   ]
  },
  {
   "cell_type": "markdown",
   "id": "0678b5b0-f20e-48e0-9d6f-242e34ce402b",
   "metadata": {},
   "source": [
    "The following code cell uses the [`quantum_info`](https://docs.quantum.ibm.com/api/qiskit/quantum_info) package which contains the [`Pauli operator`](https://docs.quantum.ibm.com/api/qiskit/qiskit.quantum_info.Pauli). We'll use that to create the two-qubit Pauli operator Z on qubit 1 and Z on qubit 2. If the state is entangled, then the correlation between qubit 1 and qubit 2 is one. \n",
    "\n",
    "Note that in the string representation qubit-0 corresponds to the right-most Pauli character, and qubit-:math:`(n-1)` to the left-most Pauli character. For example ``'XYZ'`` represents  :math:`X\\otimes Y \\otimes Z` with ``'Z'`` on qubit-0, ``'Y'`` on qubit-1, and ``'X'`` on qubit-2.  In the string representation qubit-0 corresponds to the right-most Pauli character, and qubit-:math:`(n-1)` to the left-most Pauli character. For example ``'XYZ'`` represents\n",
    "== :math:`X\\otimes Y \\otimes Z` with ``'Z'`` on qubit-0, == ``'Y'`` on qubit-1, and ``'X'`` on qubit-2."
   ]
  },
  {
   "cell_type": "code",
   "execution_count": 6,
   "id": "bced1a03-3ba1-4bd9-9b3b-2ad6c6198d3e",
   "metadata": {
    "tags": []
   },
   "outputs": [],
   "source": [
    "from qiskit.quantum_info import Pauli\n",
    "from qiskit.circuit.library import PauliGate\n",
    "\n",
    "ZZ = Pauli('ZZ')\n",
    "ZI = Pauli('ZI')\n",
    "IZ = Pauli('IZ')\n",
    "XX = Pauli('XX')\n",
    "XI = Pauli('XI')\n",
    "IX = Pauli('IX')"
   ]
  },
  {
   "cell_type": "markdown",
   "id": "76bfb5c6-183e-4262-9ccc-2a0f62ebaeab",
   "metadata": {
    "tags": []
   },
   "source": [
    "Qiskit has an *instruction set architecture (ISA)* for circuits and observables that we must follow in order to use the [Qiskit Runtime primitives](https://docs.quantum.ibm.com/run/primitives).\n",
    "\n",
    "Circuits that do not follow the *ISA* circuit layout will need to be transformed using the [Qiskit transpiler](https://docs.quantum.ibm.com/transpile).\n",
    "\n",
    "https://docs.quantum.ibm.com/start/setup-channelhttps://docs.quantum.ibm.com/start/setup-channel"
   ]
  },
  {
   "cell_type": "code",
   "execution_count": 10,
   "id": "99378373-587e-447f-ba19-f0ee56cb331b",
   "metadata": {},
   "outputs": [
    {
     "ename": "QiskitError",
     "evalue": "'Pauli can only be multiplied by 1, -1j, -1, 1j.'",
     "output_type": "error",
     "traceback": [
      "\u001b[1;31m---------------------------------------------------------------------------\u001b[0m",
      "\u001b[1;31mQiskitError\u001b[0m                               Traceback (most recent call last)",
      "Cell \u001b[1;32mIn[10], line 39\u001b[0m\n\u001b[0;32m     29\u001b[0m isa_circuit \u001b[38;5;241m=\u001b[39m pm\u001b[38;5;241m.\u001b[39mrun(qc)\n\u001b[0;32m     30\u001b[0m \u001b[38;5;66;03m#isa_observable = observable.apply_layout(isa_circuit.layout)\u001b[39;00m\n\u001b[0;32m     31\u001b[0m \u001b[38;5;66;03m# ZZ = ZZ.apply_layout(isa_circuit.layout)\u001b[39;00m\n\u001b[0;32m     32\u001b[0m \u001b[38;5;66;03m# ZI = ZI.apply_layout(isa_circuit.layout)\u001b[39;00m\n\u001b[1;32m   (...)\u001b[0m\n\u001b[0;32m     36\u001b[0m \u001b[38;5;66;03m# IX = IX.apply_layout(isa_circuit.layout)\u001b[39;00m\n\u001b[0;32m     37\u001b[0m \u001b[38;5;66;03m# XI = XI.apply_layout(isa_circuit.layout)\u001b[39;00m\n\u001b[1;32m---> 39\u001b[0m ZZ \u001b[38;5;241m=\u001b[39m \u001b[43mZZ\u001b[49m\u001b[38;5;241;43m.\u001b[39;49m\u001b[43mcompose\u001b[49m\u001b[43m(\u001b[49m\u001b[43misa_circuit\u001b[49m\u001b[43m)\u001b[49m\n\u001b[0;32m     40\u001b[0m ZZ \u001b[38;5;241m=\u001b[39m transpile(ZZ, backend\u001b[38;5;241m=\u001b[39mbackend)\n",
      "File \u001b[1;32m~\\anaconda3\\lib\\site-packages\\qiskit\\quantum_info\\operators\\symplectic\\pauli.py:482\u001b[0m, in \u001b[0;36mPauli.compose\u001b[1;34m(self, other, qargs, front, inplace)\u001b[0m\n\u001b[0;32m    480\u001b[0m     qargs \u001b[38;5;241m=\u001b[39m \u001b[38;5;28mgetattr\u001b[39m(other, \u001b[38;5;124m\"\u001b[39m\u001b[38;5;124mqargs\u001b[39m\u001b[38;5;124m\"\u001b[39m, \u001b[38;5;28;01mNone\u001b[39;00m)\n\u001b[0;32m    481\u001b[0m \u001b[38;5;28;01mif\u001b[39;00m \u001b[38;5;129;01mnot\u001b[39;00m \u001b[38;5;28misinstance\u001b[39m(other, Pauli):\n\u001b[1;32m--> 482\u001b[0m     other \u001b[38;5;241m=\u001b[39m \u001b[43mPauli\u001b[49m\u001b[43m(\u001b[49m\u001b[43mother\u001b[49m\u001b[43m)\u001b[49m\n\u001b[0;32m    483\u001b[0m \u001b[38;5;28;01mreturn\u001b[39;00m Pauli(\u001b[38;5;28msuper\u001b[39m()\u001b[38;5;241m.\u001b[39mcompose(other, qargs\u001b[38;5;241m=\u001b[39mqargs, front\u001b[38;5;241m=\u001b[39mfront, inplace\u001b[38;5;241m=\u001b[39minplace))\n",
      "File \u001b[1;32m~\\anaconda3\\lib\\site-packages\\qiskit\\quantum_info\\operators\\symplectic\\pauli.py:194\u001b[0m, in \u001b[0;36mPauli.__init__\u001b[1;34m(self, data)\u001b[0m\n\u001b[0;32m    192\u001b[0m     base_z, base_x, base_phase \u001b[38;5;241m=\u001b[39m \u001b[38;5;28mself\u001b[39m\u001b[38;5;241m.\u001b[39m_from_scalar_op(data)\n\u001b[0;32m    193\u001b[0m \u001b[38;5;28;01melif\u001b[39;00m \u001b[38;5;28misinstance\u001b[39m(data, (QuantumCircuit, Instruction)):\n\u001b[1;32m--> 194\u001b[0m     base_z, base_x, base_phase \u001b[38;5;241m=\u001b[39m \u001b[38;5;28;43mself\u001b[39;49m\u001b[38;5;241;43m.\u001b[39;49m\u001b[43m_from_circuit\u001b[49m\u001b[43m(\u001b[49m\u001b[43mdata\u001b[49m\u001b[43m)\u001b[49m\n\u001b[0;32m    195\u001b[0m \u001b[38;5;28;01melse\u001b[39;00m:\n\u001b[0;32m    196\u001b[0m     \u001b[38;5;28;01mraise\u001b[39;00m QiskitError(\u001b[38;5;124m\"\u001b[39m\u001b[38;5;124mInvalid input data for Pauli.\u001b[39m\u001b[38;5;124m\"\u001b[39m)\n",
      "File \u001b[1;32m~\\anaconda3\\lib\\site-packages\\qiskit\\quantum_info\\operators\\symplectic\\pauli.py:685\u001b[0m, in \u001b[0;36mPauli._from_circuit\u001b[1;34m(cls, instr)\u001b[0m\n\u001b[0;32m    683\u001b[0m \u001b[38;5;66;03m# Add circuit global phase if specified\u001b[39;00m\n\u001b[0;32m    684\u001b[0m \u001b[38;5;28;01mif\u001b[39;00m instr\u001b[38;5;241m.\u001b[39mglobal_phase:\n\u001b[1;32m--> 685\u001b[0m     ret\u001b[38;5;241m.\u001b[39mphase \u001b[38;5;241m=\u001b[39m \u001b[38;5;28;43mcls\u001b[39;49m\u001b[38;5;241;43m.\u001b[39;49m\u001b[43m_phase_from_complex\u001b[49m\u001b[43m(\u001b[49m\u001b[43mnp\u001b[49m\u001b[38;5;241;43m.\u001b[39;49m\u001b[43mexp\u001b[49m\u001b[43m(\u001b[49m\u001b[38;5;241;43m1\u001b[39;49m\u001b[43mj\u001b[49m\u001b[43m \u001b[49m\u001b[38;5;241;43m*\u001b[39;49m\u001b[43m \u001b[49m\u001b[38;5;28;43mfloat\u001b[39;49m\u001b[43m(\u001b[49m\u001b[43minstr\u001b[49m\u001b[38;5;241;43m.\u001b[39;49m\u001b[43mglobal_phase\u001b[49m\u001b[43m)\u001b[49m\u001b[43m)\u001b[49m\u001b[43m)\u001b[49m\n\u001b[0;32m    687\u001b[0m \u001b[38;5;66;03m# Recursively apply instructions\u001b[39;00m\n\u001b[0;32m    688\u001b[0m \u001b[38;5;28;01mfor\u001b[39;00m inner \u001b[38;5;129;01min\u001b[39;00m instr\u001b[38;5;241m.\u001b[39mdata:\n",
      "File \u001b[1;32m~\\anaconda3\\lib\\site-packages\\qiskit\\quantum_info\\operators\\symplectic\\base_pauli.py:380\u001b[0m, in \u001b[0;36mBasePauli._phase_from_complex\u001b[1;34m(coeff)\u001b[0m\n\u001b[0;32m    378\u001b[0m \u001b[38;5;28;01mif\u001b[39;00m np\u001b[38;5;241m.\u001b[39misclose(coeff, \u001b[38;5;241m1\u001b[39mj):\n\u001b[0;32m    379\u001b[0m     \u001b[38;5;28;01mreturn\u001b[39;00m \u001b[38;5;241m3\u001b[39m\n\u001b[1;32m--> 380\u001b[0m \u001b[38;5;28;01mraise\u001b[39;00m QiskitError(\u001b[38;5;124m\"\u001b[39m\u001b[38;5;124mPauli can only be multiplied by 1, -1j, -1, 1j.\u001b[39m\u001b[38;5;124m\"\u001b[39m)\n",
      "\u001b[1;31mQiskitError\u001b[0m: 'Pauli can only be multiplied by 1, -1j, -1, 1j.'"
     ]
    }
   ],
   "source": [
    "from qiskit.transpiler.preset_passmanagers import generate_preset_pass_manager\n",
    "#from qiskit_ibm_runtime import QiskitRuntimeService, Estimator, Options\n",
    "from qiskit_ibm_runtime import QiskitRuntimeService, RuntimeOptions\n",
    "\n",
    "# Initialize account.\n",
    "# service = QiskitRuntimeService(channel=\"ibm_quantum\", token=\"<MY_IBM_QUANTUM_TOKEN>\")\n",
    "MY_IBM_QUANTUM_TOKEN = \"fbadf7fc4052e2bc1f25b66720afbdda09dd36ad1da2828ceff230e78e5936eba82c1cb17d55ae43494fd092219fbe8e445d526f7a4eefbc01bf221ebcf077da\"\n",
    "channel = \"ibm_quantum\"\n",
    "service = QiskitRuntimeService(channel = channel, token = MY_IBM_QUANTUM_TOKEN)\n",
    "\n",
    "# Load saved credentials\n",
    "service = QiskitRuntimeService()\n",
    "\n",
    "# Set backend\n",
    "backend = service.get_backend(\"ibmq_qasm_simulator\")\n",
    "# backend = service.get_backend(\"ibm_brisbane\")\n",
    "\n",
    "# Save an IBM Quantum account and set it as your default account.\n",
    "# QiskitRuntimeService.save_account(channel=\"ibm_quantum\", token=\"<MY_IBM_QUANTUM_TOKEN>\", set_as_default=True)\n",
    "# RuntimeOptions(backend = backend).validate(channel = channel)\n",
    "if (RuntimeOptions(backend = backend).validate(channel = channel)) != None:\n",
    "    QiskitRuntimeService.save_account(channel = channel, token = MY_IBM_QUANTUM_TOKEN, set_as_default=True)\n",
    "\n",
    "# Set options, which can be overwritten at job level.\n",
    "#options = Options(optimization_level=1)\n",
    "\n",
    "pm = generate_preset_pass_manager(optimization_level = 1, backend = backend)\n",
    "\n",
    "isa_circuit = pm.run(qc)\n",
    "#isa_observable = observable.apply_layout(isa_circuit.layout)\n",
    "# ZZ = ZZ.apply_layout(isa_circuit.layout)\n",
    "# ZI = ZI.apply_layout(isa_circuit.layout)\n",
    "# ZI = ZI.apply_layout(isa_circuit.layout)\n",
    "# IZ = IZ.apply_layout(isa_circuit.layout)\n",
    "# XX = XX.apply_layout(isa_circuit.layout)\n",
    "# IX = IX.apply_layout(isa_circuit.layout)\n",
    "# XI = XI.apply_layout(isa_circuit.layout)\n",
    "\n",
    "# ZZ = ZZ.compose(isa_circuit)\n",
    "# ZZ = transpile(ZZ, backend = backend)"
   ]
  },
  {
   "cell_type": "markdown",
   "id": "3686ebc3-dec4-41ee-92ab-98bf4ca5cc68",
   "metadata": {},
   "source": [
    "## Step 2. Optimize the circuits and operators\n",
    "\n",
    "For this example, the circuit the operators are simple, so no optimizations are needed.\n"
   ]
  },
  {
   "cell_type": "markdown",
   "id": "917825aa-f6ce-404a-a7a3-dffbc6e287ff",
   "metadata": {},
   "source": [
    "## Step 3. Execute using a quantum primitive function\n",
    "\n",
    "Quantum computers can produce random results, so you'll often want to collect a sample of the outputs by running the circuit many times. You can estimate the value of the observable using the `Estimator` class. `Estimator` is one of our two [primitives](../run/primitives-get-started); the other is `Sampler`, which can be used to get data from a quantum computer.\n"
   ]
  },
  {
   "cell_type": "code",
   "execution_count": null,
   "id": "366945a7-acb9-4fd7-b281-123b1df7d355",
   "metadata": {},
   "outputs": [],
   "source": [
    "from qiskit_ibm_runtime import QiskitRuntimeService, Estimator, Options\n",
    "\n",
    "service = QiskitRuntimeService()\n",
    "\n",
    "# Run on the least-busy backend you have access to\n",
    "backend = service.least_busy(simulator=False, operational=True)\n",
    "\n",
    "options = Options()\n",
    "options.resilience_level = 1\n",
    "options.optimization_level = 3\n",
    "\n",
    "# Create an Estimator object\n",
    "estimator = Estimator(backend, options=options)\n",
    "\n",
    "# Submit the circuit to Estimator\n",
    "job = estimator.run(circuits=[isa_circuit]*6, observables=[IZ, IX, ZI, XI, ZZ, XX], shots = 5000)\n",
    "\n",
    "# Once the job is complete, get the result\n",
    "job.result()"
   ]
  },
  {
   "cell_type": "markdown",
   "id": "320b3390-7ecf-4eb0-a70d-0a43a09c3938",
   "metadata": {},
   "source": [
    "<Admonition type=\"note\" title=\"Queue times\">\n",
    "  Queue times on real devices may vary. If you would like to get a faster result, replace the `backend =` line with the following instead:\n",
    "\n",
    "  ```python\n",
    "\n",
    "\n",
    "\n",
    "  # Run on a simulator\n",
    "\n",
    "\n",
    "\n",
    "  backend = service.get_backend(\"ibmq_qasm_simulator\")\n",
    "\n",
    "\n",
    "\n",
    "  ```\n",
    "</Admonition>\n"
   ]
  },
  {
   "cell_type": "markdown",
   "id": "87b972e3-fadc-4386-b4bd-13b246e4b3d9",
   "metadata": {},
   "source": [
    "The `values` property is a list of expectation values for each of the observables we provided.\n"
   ]
  },
  {
   "cell_type": "markdown",
   "id": "5ea4a9f6-55fe-48e2-bd44-001edd7da29f",
   "metadata": {},
   "source": [
    "## Step 4. Analyze the results\n"
   ]
  },
  {
   "cell_type": "code",
   "execution_count": null,
   "id": "61353c09-4cb2-4f53-834b-497f4fdb23a6",
   "metadata": {},
   "outputs": [],
   "source": [
    "import matplotlib.pyplot as plt\n",
    "import numpy as np\n",
    "\n",
    "# data\n",
    "data = ['IZ', 'IX', 'ZI', 'XI', 'ZZ', 'XX']\n",
    "values = job.result().values\n",
    "\n",
    "# creating error bars\n",
    "error = []\n",
    "for case in job.result().metadata:\n",
    "    error.append(2*np.sqrt(case['variance']/case['shots']))\n",
    "\n",
    "# plotting graph\n",
    "plt.plot(data, values)\n",
    "plt.errorbar(data, values, yerr = error, fmt ='o')\n",
    "plt.xlabel('Observables')\n",
    "plt.ylabel('Values')\n",
    "plt.show()"
   ]
  },
  {
   "cell_type": "markdown",
   "id": "052f6d11-766e-4c06-a1cc-dee5fafede59",
   "metadata": {},
   "source": [
    "Here we see that for qubits 0 and 1, the independent values of both X and Z are zero, while the correlations are one. This is a hallmark of quantum entanglement.\n"
   ]
  }
 ],
 "metadata": {
  "kernelspec": {
   "display_name": "Python 3 (ipykernel)",
   "language": "python",
   "name": "python3"
  },
  "language_info": {
   "codemirror_mode": {
    "name": "ipython",
    "version": 3
   },
   "file_extension": ".py",
   "mimetype": "text/x-python",
   "name": "python",
   "nbconvert_exporter": "python",
   "pygments_lexer": "ipython3",
   "version": "3.12.2"
  }
 },
 "nbformat": 4,
 "nbformat_minor": 5
}
