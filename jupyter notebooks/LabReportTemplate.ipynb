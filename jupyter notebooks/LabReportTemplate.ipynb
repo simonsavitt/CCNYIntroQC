{
 "cells": [
  {
   "cell_type": "markdown",
   "metadata": {},
   "source": [
    "# The Lab Report"
   ]
  },
  {
   "cell_type": "markdown",
   "metadata": {},
   "source": [
    "## The Point\n",
    "A description of the project and what it demonstrates. This is the section I’ll be looking at most, since it’s where you show that you know what you’re doing. You’ll be using a lot of the same tricks in practically every program, so rather than repeat yourself, please just describe new ideas and techniques.\n"
   ]
  },
  {
   "cell_type": "markdown",
   "metadata": {},
   "source": [
    "## The Method\n",
    "Screenshots of the circuit and/or code you used.\n"
   ]
  },
  {
   "cell_type": "markdown",
   "metadata": {},
   "source": [
    "## The Tools\n",
    "A description of each step in the code/circuit and its function."
   ]
  },
  {
   "cell_type": "markdown",
   "metadata": {},
   "source": [
    "## The Data\n",
    "The results of the experiment in the form of any data or pictures you\n",
    "collected."
   ]
  },
  {
   "cell_type": "markdown",
   "metadata": {},
   "source": [
    "## The Analysis\n",
    "An analysis of that data."
   ]
  },
  {
   "cell_type": "markdown",
   "metadata": {},
   "source": [
    "## The Problems\n",
    "A discussion of any difficulties, confusion, or issues and how they were overcome. The “discussion of difficulties” is the most important part (for me). This is the first year the lab is being used, so I need to know what works and what doesn’t for next year."
   ]
  },
  {
   "cell_type": "markdown",
   "metadata": {},
   "source": []
  }
 ],
 "metadata": {
  "language_info": {
   "name": "python"
  }
 },
 "nbformat": 4,
 "nbformat_minor": 2
}
